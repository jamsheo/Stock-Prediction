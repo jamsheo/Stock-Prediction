{
 "cells": [
  {
   "cell_type": "code",
   "execution_count": 1,
   "id": "2444da6e",
   "metadata": {},
   "outputs": [],
   "source": [
    "import csv\n",
    "import numpy as np\n",
    "from sklearn.svm import SVR\n",
    "import matplotlib.pyplot as plt"
   ]
  },
  {
   "cell_type": "code",
   "execution_count": 2,
   "id": "28964222",
   "metadata": {},
   "outputs": [],
   "source": [
    "dates = []\n",
    "prices = []"
   ]
  },
  {
   "cell_type": "code",
   "execution_count": 3,
   "id": "3038a60b",
   "metadata": {},
   "outputs": [],
   "source": [
    "def get_data(filename):\n",
    "    with open(filename, 'r') as csvfile:\n",
    "        csvFileReader = csv.reader(csvfile)\n",
    "        next(csvFileReader)\n",
    "        for row in csvFileReader:\n",
    "            dates.append(int(row[0].split('-')[0]))\n",
    "            prices.append(float(row[1]))\n",
    "        return        "
   ]
  },
  {
   "cell_type": "code",
   "execution_count": 4,
   "id": "85fc853d",
   "metadata": {},
   "outputs": [],
   "source": [
    "def predict_prices(dates, prices, x):\n",
    "    dates = np.reshape(dates,(len(dates), 1))\n",
    "    \n",
    "    svr_lin = SVR(kernel = 'linear', C=1e3)\n",
    "    svr_poly = SVR(kernel = 'poly', C=1e3, degree = 2)\n",
    "    svr_rbf = SVR(kernel = 'rbf', C=1e3, gamma = 0.1)\n",
    "    svr_lin.fit(dates, prices)\n",
    "    svr_poly.fit(dates, prices)\n",
    "    svr_rbf.fit(dates, prices)\n",
    "    \n",
    "    plt.scatter(dates, prices, color = 'black', label = 'Data')\n",
    "    plt. plot(dates, svr_lin.predict(dates), color = 'green', label = 'Linear model')\n",
    "    plt. plot(dates, svr_poly.predict(dates), color = 'blue', label = 'Polynomial model')\n",
    "    plt. plot(dates, svr_rbf.predict(dates), color = 'red', label = 'RBF model')\n",
    "    plt.xlabel('Date')\n",
    "    plt.ylabel('Price')\n",
    "    plt.title('Support Vector Regression')\n",
    "    plt.legend()\n",
    "    plt.show()\n",
    "    \n",
    "    return vr_lin.predict(x)[0], vr_poly.predict(x)[0], vr_rbf.predict(x)[0]"
   ]
  },
  {
   "cell_type": "code",
   "execution_count": 5,
   "id": "36ab9980",
   "metadata": {},
   "outputs": [],
   "source": [
    "get_data('TSLA.csv')"
   ]
  },
  {
   "cell_type": "code",
   "execution_count": null,
   "id": "52efb8fc",
   "metadata": {},
   "outputs": [],
   "source": [
    "predicted_price = predict_prices(dates, prices, 29)\n",
    "print(predicted_price)"
   ]
  },
  {
   "cell_type": "code",
   "execution_count": null,
   "id": "0c3966d5",
   "metadata": {},
   "outputs": [],
   "source": []
  }
 ],
 "metadata": {
  "kernelspec": {
   "display_name": "Python 3 (ipykernel)",
   "language": "python",
   "name": "python3"
  },
  "language_info": {
   "codemirror_mode": {
    "name": "ipython",
    "version": 3
   },
   "file_extension": ".py",
   "mimetype": "text/x-python",
   "name": "python",
   "nbconvert_exporter": "python",
   "pygments_lexer": "ipython3",
   "version": "3.9.7"
  }
 },
 "nbformat": 4,
 "nbformat_minor": 5
}
